{
 "cells": [
  {
   "cell_type": "code",
   "execution_count": 13,
   "metadata": {},
   "outputs": [
    {
     "name": "stdout",
     "output_type": "stream",
     "text": [
      "2\n"
     ]
    }
   ],
   "source": [
    "def countPairs(array, total):\n",
    "    list_count = []\n",
    "    for a in array:\n",
    "        b = total - a\n",
    "        if not b in array :\n",
    "            continue\n",
    "            \n",
    "        new_list = [min(a,b), max(a,b)]\n",
    "        if new_list in list_count :\n",
    "            continue\n",
    "        \n",
    "        list_count.append(new_list)\n",
    "    return len(list_count)    \n",
    "\n",
    "print(countPairs([1, 3, 2, 2, 3, 4], 5))"
   ]
  },
  {
   "cell_type": "code",
   "execution_count": 14,
   "metadata": {},
   "outputs": [
    {
     "name": "stdout",
     "output_type": "stream",
     "text": [
      "2\n",
      "1\n",
      "2\n"
     ]
    }
   ],
   "source": [
    "print(countPairs([1, 3, 2, 2, 3, 4], 5))\n",
    "print(countPairs([1, 1, 1, 1], 2))\n",
    "print(countPairs([1, 2, 3, 4, 5], 7))"
   ]
  },
  {
   "cell_type": "code",
   "execution_count": 2,
   "metadata": {},
   "outputs": [
    {
     "data": {
      "text/plain": [
       "tuple"
      ]
     },
     "execution_count": 2,
     "metadata": {},
     "output_type": "execute_result"
    }
   ],
   "source": []
  },
  {
   "cell_type": "code",
   "execution_count": null,
   "metadata": {},
   "outputs": [],
   "source": []
  }
 ],
 "metadata": {
  "kernelspec": {
   "display_name": "base",
   "language": "python",
   "name": "python3"
  },
  "language_info": {
   "codemirror_mode": {
    "name": "ipython",
    "version": 3
   },
   "file_extension": ".py",
   "mimetype": "text/x-python",
   "name": "python",
   "nbconvert_exporter": "python",
   "pygments_lexer": "ipython3",
   "version": "3.12.2"
  }
 },
 "nbformat": 4,
 "nbformat_minor": 2
}
